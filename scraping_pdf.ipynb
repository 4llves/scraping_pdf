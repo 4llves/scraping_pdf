{
 "cells": [
  {
   "cell_type": "code",
   "execution_count": 2,
   "metadata": {},
   "outputs": [
    {
     "ename": "ModuleNotFoundError",
     "evalue": "No module named 'PrettyColorPrinter'",
     "output_type": "error",
     "traceback": [
      "\u001b[1;31m---------------------------------------------------------------------------\u001b[0m",
      "\u001b[1;31mModuleNotFoundError\u001b[0m                       Traceback (most recent call last)",
      "\u001b[1;32md:\\Developer\\Python\\pdfScraping\\scraping_pdf.ipynb Cell 1\u001b[0m line \u001b[0;36m1\n\u001b[1;32m----> <a href='vscode-notebook-cell:/d%3A/Developer/Python/pdfScraping/scraping_pdf.ipynb#W2sZmlsZQ%3D%3D?line=0'>1</a>\u001b[0m \u001b[39mfrom\u001b[39;00m \u001b[39mPrettyColorPrinter\u001b[39;00m \u001b[39mimport\u001b[39;00m add_printer\n\u001b[0;32m      <a href='vscode-notebook-cell:/d%3A/Developer/Python/pdfScraping/scraping_pdf.ipynb#W2sZmlsZQ%3D%3D?line=1'>2</a>\u001b[0m \u001b[39mfrom\u001b[39;00m \u001b[39mpdferli\u001b[39;00m \u001b[39mimport\u001b[39;00m get_pdfdf\n\u001b[0;32m      <a href='vscode-notebook-cell:/d%3A/Developer/Python/pdfScraping/scraping_pdf.ipynb#W2sZmlsZQ%3D%3D?line=3'>4</a>\u001b[0m path\u001b[39m=\u001b[39m\u001b[39mr\u001b[39m\u001b[39m\"\u001b[39m\u001b[39mD:\u001b[39m\u001b[39m\\\u001b[39m\u001b[39mDeveloper\u001b[39m\u001b[39m\\\u001b[39m\u001b[39mPython\u001b[39m\u001b[39m\\\u001b[39m\u001b[39mpdfScraping\u001b[39m\u001b[39m\\\u001b[39m\u001b[39mpdf\u001b[39m\u001b[39m\\\u001b[39m\u001b[39mNFe02.pdf\u001b[39m\u001b[39m\"\u001b[39m\n",
      "\u001b[1;31mModuleNotFoundError\u001b[0m: No module named 'PrettyColorPrinter'"
     ]
    }
   ],
   "source": [
    "from PrettyColorPrinter import add_printer\n",
    "from pdferli import get_pdfdf\n",
    "\n",
    "path=r\"D:\\Developer\\Python\\pdfScraping\\pdf\\NFe02.pdf\"\n",
    "\n",
    "add_printer(1)\n",
    "\n",
    "df = get_pdfdf(path, normalize_content=False)\n",
    "print (df)"
   ]
  }
 ],
 "metadata": {
  "kernelspec": {
   "display_name": "Python 3",
   "language": "python",
   "name": "python3"
  },
  "language_info": {
   "codemirror_mode": {
    "name": "ipython",
    "version": 3
   },
   "file_extension": ".py",
   "mimetype": "text/x-python",
   "name": "python",
   "nbconvert_exporter": "python",
   "pygments_lexer": "ipython3",
   "version": "3.10.0"
  },
  "orig_nbformat": 4
 },
 "nbformat": 4,
 "nbformat_minor": 2
}
